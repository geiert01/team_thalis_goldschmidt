{
 "cells": [
  {
   "cell_type": "code",
   "execution_count": 1,
   "id": "1b890d9b9af10a06",
   "metadata": {
    "ExecuteTime": {
     "end_time": "2024-10-19T15:34:38.226274Z",
     "start_time": "2024-10-19T15:34:37.524273Z"
    },
    "collapsed": true
   },
   "outputs": [
    {
     "name": "stderr",
     "output_type": "stream",
     "text": [
      "C:\\Users\\bokovacs\\AppData\\Local\\Temp\\ipykernel_1284\\1171176731.py:18: LangChainDeprecationWarning: The class `ChatOpenAI` was deprecated in LangChain 0.0.10 and will be removed in 1.0. An updated version of the class exists in the :class:`~langchain-openai package and should be used instead. To use it run `pip install -U :class:`~langchain-openai` and import as `from :class:`~langchain_openai import ChatOpenAI``.\n",
      "  chat = ChatOpenAI(temperature=0, openai_api_key=api_key)\n"
     ]
    }
   ],
   "source": [
    "import pandas as pd\n",
    "import os\n",
    "from dotenv import load_dotenv\n",
    "\n",
    "# Import LangChain's ChatOpenAI\n",
    "from langchain.chat_models import ChatOpenAI\n",
    "from langchain.schema import SystemMessage, HumanMessage\n",
    "\n",
    "# Load OpenAI API key from .env file\n",
    "if not load_dotenv():\n",
    "    raise Exception('Error loading .env file. Make sure to place a valid OPENAI_API_KEY in the .env file.')\n",
    "\n",
    "api_key = os.getenv(\"OPENAI_API_KEY\")\n",
    "if not api_key:\n",
    "    raise Exception('Error loading OPENAI_API_KEY from .env file. Make sure to place a valid OPENAI_API_KEY in the .env file.')\n",
    "\n",
    "# Initialize the ChatOpenAI object\n",
    "chat = ChatOpenAI(temperature=0, openai_api_key=api_key)"
   ]
  },
  {
   "cell_type": "code",
   "execution_count": 38,
   "id": "819f9e0d0a11075d",
   "metadata": {
    "ExecuteTime": {
     "end_time": "2024-10-19T15:34:49.767456Z",
     "start_time": "2024-10-19T15:34:49.755634Z"
    }
   },
   "outputs": [],
   "source": [
    "\n",
    "def convert_units(df):\n",
    "    \"\"\"\n",
    "    Converts values in the DataFrame to a canonical unit per metric, considering the units present.\n",
    "    Also determines the direction of the metric regarding sustainability (-1, 0, or 1).\n",
    "\n",
    "    Parameters:\n",
    "    df (pd.DataFrame): DataFrame containing at least the columns 'metric', 'value', 'unit'.\n",
    "\n",
    "    Returns:\n",
    "    pd.DataFrame: DataFrame with new columns 'Converted value', 'Canonical unit', and 'Direction'.\n",
    "    \"\"\"\n",
    "    # Initialize dictionaries to store canonical units, conversion factors, and directions\n",
    "    canonical_units = {}\n",
    "    unit_conversion_factors = {}\n",
    "    metric_directions = {}\n",
    "\n",
    "    # Determine canonical units, build conversion factors, and determine directions\n",
    "    for metric in df['metric'].unique():\n",
    "        # Get the list of units for the current metric\n",
    "        units = df[df['metric'] == metric]['unit'].unique().tolist()\n",
    "        # Get the canonical unit for the metric using the LLM, considering the units present\n",
    "        canonical_unit = get_canonical_unit(metric, units)\n",
    "        if not canonical_unit:\n",
    "            print(f\"Could not determine canonical unit for metric '{metric}'. Skipping.\")\n",
    "            continue\n",
    "        canonical_units[metric] = canonical_unit\n",
    "        unit_conversion_factors[metric] = {}\n",
    "        for unit in units:\n",
    "            if unit == canonical_unit:\n",
    "                unit_conversion_factors[metric][unit] = 1.0\n",
    "            else:\n",
    "                factor = get_conversion_factor(unit, canonical_unit)\n",
    "                if factor:\n",
    "                    unit_conversion_factors[metric][unit] = factor\n",
    "                else:\n",
    "                    # Handle cases where conversion factor could not be retrieved\n",
    "                    unit_conversion_factors[metric][unit] = None  # Indicate failure to convert\n",
    "\n",
    "        # Get the direction of the metric regarding sustainability\n",
    "        direction = get_metric_direction(metric)\n",
    "        if direction is not None:\n",
    "            metric_directions[metric] = direction\n",
    "        else:\n",
    "            metric_directions[metric] = 0  # Default to neutral if unable to determine\n",
    "\n",
    "    # Function to convert values to canonical units\n",
    "    def convert_value(row):\n",
    "        metric = row['metric']\n",
    "        unit = row['unit']\n",
    "        value = row['value']\n",
    "        factor = unit_conversion_factors.get(metric, {}).get(unit)\n",
    "        if factor is None:\n",
    "            # Unable to convert; return None or handle as needed\n",
    "            print(f\"Unable to convert '{unit}' to '{canonical_units.get(metric)}' for metric '{metric}'.\")\n",
    "            return None\n",
    "        return value * factor\n",
    "\n",
    "    # Apply the conversion to the DataFrame\n",
    "    df['Canonical unit'] = df['metric'].map(canonical_units)\n",
    "    df['Converted value'] = df.apply(convert_value, axis=1)\n",
    "    df['Direction'] = df['metric'].map(metric_directions)\n",
    "\n",
    "    return df\n",
    "\n",
    "def get_canonical_unit(metric, units):\n",
    "    \"\"\"\n",
    "    Uses the LLM to determine the most appropriate canonical unit for a given metric, considering the units present.\n",
    "\n",
    "    Parameters:\n",
    "    metric (str): The name of the metric.\n",
    "    units (list): List of units present for the metric.\n",
    "\n",
    "    Returns:\n",
    "    str: The canonical unit.\n",
    "    \"\"\"\n",
    "    units_list = ', '.join(units)\n",
    "    prompt = (\n",
    "        f\"For the metric '{metric}', considering the units '{units_list}', \"\n",
    "        f\"what is the most appropriate unit to standardize on for comparison purposes? \"\n",
    "        f\"Choose one of the provided units or suggest a compatible unit. Provide only the unit name.\"\n",
    "    )\n",
    "    messages = [\n",
    "        SystemMessage(content=\"You are an expert in units of measurement. When asked, you provide only the most appropriate unit to standardize on for a given metric, considering the units provided, as a single word or phrase, nothing else.\"),\n",
    "        HumanMessage(content=prompt)\n",
    "    ]\n",
    "    try:\n",
    "        response = chat(messages)\n",
    "        answer = response.content.strip()\n",
    "        print(f\"Canonical unit for metric '{metric}': {answer}\")\n",
    "        return answer\n",
    "    except Exception as e:\n",
    "        print(f\"Error getting canonical unit for metric '{metric}': {e}\")\n",
    "        return None\n",
    "\n",
    "def get_conversion_factor(source_unit, target_unit):\n",
    "    \"\"\"\n",
    "    Uses the LLM to get the conversion factor from source_unit to target_unit.\n",
    "\n",
    "    Parameters:\n",
    "    source_unit (str): The unit to convert from.\n",
    "    target_unit (str): The unit to convert to.\n",
    "\n",
    "    Returns:\n",
    "    float: The conversion factor.\n",
    "    \"\"\"\n",
    "    prompt = f\"What is the numerical conversion factor to convert '{source_unit}' to '{target_unit}'? Provide only the numerical conversion factor.\"\n",
    "    messages = [\n",
    "        SystemMessage(content=\"You are an expert in unit conversions. When asked, you provide only the numerical conversion factor as a single number, nothing else.\"),\n",
    "        HumanMessage(content=prompt)\n",
    "    ]\n",
    "    try:\n",
    "        response = chat(messages)\n",
    "        answer = response.content.strip()\n",
    "        # Remove commas from numbers to handle thousands separators\n",
    "        answer = answer.replace(',', '')\n",
    "        factor = float(answer)\n",
    "        print(f\"Conversion factor from '{source_unit}' to '{target_unit}': {factor}\")\n",
    "        return factor\n",
    "    except Exception as e:\n",
    "        print(f\"Error getting conversion factor from '{source_unit}' to '{target_unit}': {e}\")\n",
    "        return None\n",
    "\n",
    "def get_metric_direction(metric):\n",
    "    \"\"\"\n",
    "    Uses the LLM to determine whether, for the given metric, a higher value is better, a lower value is better, or neutral in terms of sustainability.\n",
    "\n",
    "    Parameters:\n",
    "    metric (str): The name of the metric.\n",
    "\n",
    "    Returns:\n",
    "    int: Direction indicator (-1 for lower is better, 1 for higher is better, 0 for neutral).\n",
    "    \"\"\"\n",
    "    prompt = (\n",
    "        f\"In terms of sustainability, for the metric '{metric}', is a higher value better, a lower value better, or is it neutral? \"\n",
    "        f\"Please respond with '-1' if a lower value is better, '1' if a higher value is better, or '0' if it's neutral. Provide only the number.\"\n",
    "    )\n",
    "    messages = [\n",
    "        SystemMessage(content=\"You are an expert in sustainability metrics. When asked about a metric, you provide only the direction indicator as a single number: '-1' if a lower value is better, '1' if a higher value is better, or '0' if it's neutral.\"),\n",
    "        HumanMessage(content=prompt)\n",
    "    ]\n",
    "    try:\n",
    "        response = chat(messages)\n",
    "        answer = response.content.strip()\n",
    "        # Ensure the answer is one of -1, 0, or 1\n",
    "        if answer in ['-1', '0', '1']:\n",
    "            direction = int(answer)\n",
    "            print(f\"Direction for metric '{metric}': {direction}\")\n",
    "            return direction\n",
    "        else:\n",
    "            print(f\"Invalid direction response for metric '{metric}': {answer}\")\n",
    "            return None\n",
    "    except Exception as e:\n",
    "        print(f\"Error getting direction for metric '{metric}': {e}\")\n",
    "        return None"
   ]
  },
  {
   "cell_type": "code",
   "execution_count": 3,
   "id": "505cdb335dc55d44",
   "metadata": {
    "ExecuteTime": {
     "end_time": "2024-10-19T15:35:28.641068Z",
     "start_time": "2024-10-19T15:35:28.638842Z"
    }
   },
   "outputs": [],
   "source": [
    "esg_metrics_small = [\n",
    "    'Carbon Emissions',\n",
    "    'Energy Consumption',\n",
    "    'Water Usage',\n",
    "    'Waste Generation',\n",
    "    'Renewable Energy Usage',\n",
    "    'Greenhouse Gas Emissions Intensity',\n",
    "    'Biodiversity Impact',\n",
    "]"
   ]
  },
  {
   "cell_type": "code",
   "execution_count": 4,
   "id": "2cc2b7ec1902e44",
   "metadata": {
    "ExecuteTime": {
     "end_time": "2024-10-19T15:35:34.763720Z",
     "start_time": "2024-10-19T15:35:34.758507Z"
    }
   },
   "outputs": [],
   "source": [
    "import pandas as pd\n",
    "import numpy as np\n",
    "\n",
    "\n",
    "np.random.seed(420)\n",
    "\n",
    "# Recreate the dummy data\n",
    "thomas_data = {\n",
    "    'company': np.random.choice(['Apple', 'BP', 'Walmart', 'H&M', 'Google', 'Microsoft', 'Tesla', 'Unilever'], size=20),\n",
    "    'year': np.random.choice([2017, 2019, 2021, 2023], size=20),\n",
    "    'metric': np.random.choice(esg_metrics_small, size=20, replace=True),\n",
    "    'value': np.random.uniform(100, 10000, size=20, ),\n",
    "    'unit': np.random.choice(['tonnes', 'kg', 'kilotonnes', 'gramm'], size=20)\n",
    "}\n",
    "\n",
    "# Create a dataframe\n",
    "thomas_df = pd.DataFrame(thomas_data)"
   ]
  },
  {
   "cell_type": "code",
   "execution_count": 16,
   "id": "9a0724b4",
   "metadata": {},
   "outputs": [],
   "source": [
    "df_final = pd.read_csv(\"data/df_final.csv\")\n"
   ]
  },
  {
   "cell_type": "code",
   "execution_count": 33,
   "id": "973e54cc",
   "metadata": {},
   "outputs": [
    {
     "name": "stdout",
     "output_type": "stream",
     "text": [
      "  company  year            metric      value              unit\n",
      "0  Amazon  2022  Carbon Emissions      70.74  metric tons CO2e\n",
      "2     H&M  2017  Carbon Emissions   70165.00            tonnes\n",
      "5   Apple  2012  Carbon Emissions  400000.00  metric tons CO2e\n",
      "6   Apple  2011  Carbon Emissions  200000.00  metric tons CO2e\n",
      "7      BP  2017  Carbon Emissions      48.80           MteCO2e\n"
     ]
    },
    {
     "name": "stderr",
     "output_type": "stream",
     "text": [
      "C:\\Users\\bokovacs\\AppData\\Local\\Temp\\ipykernel_1284\\362869102.py:5: SettingWithCopyWarning: \n",
      "A value is trying to be set on a copy of a slice from a DataFrame.\n",
      "Try using .loc[row_indexer,col_indexer] = value instead\n",
      "\n",
      "See the caveats in the documentation: https://pandas.pydata.org/pandas-docs/stable/user_guide/indexing.html#returning-a-view-versus-a-copy\n",
      "  df_filtered['value'] = df_filtered['value'].apply(lambda x: float(x[1:-1]))\n"
     ]
    }
   ],
   "source": [
    "\n",
    "# Step 1: Filter rows where 'value' column contains a list with exactly one element and that element is a float\n",
    "df_filtered = df_final[df_final['value'].apply(lambda x: len(ast.literal_eval(x)) == 1 )]\n",
    "\n",
    "# Step 2: Convert the list with one element to a float\n",
    "df_filtered['value'] = df_filtered['value'].apply(lambda x: float(x[1:-1]))\n",
    "\n",
    "# Check the result\n",
    "print(df_filtered.head())\n"
   ]
  },
  {
   "cell_type": "code",
   "execution_count": 27,
   "id": "221c5af5",
   "metadata": {},
   "outputs": [],
   "source": [
    "import ast\n",
    "\n",
    "# Convert the string into an actual Python list\n",
    "converted_list = ast.literal_eval(df_final.loc[0, \"value\"])"
   ]
  },
  {
   "cell_type": "code",
   "execution_count": 40,
   "id": "60e8bef25469f930",
   "metadata": {
    "ExecuteTime": {
     "end_time": "2024-10-19T15:35:52.537431Z",
     "start_time": "2024-10-19T15:35:41.651868Z"
    }
   },
   "outputs": [
    {
     "name": "stdout",
     "output_type": "stream",
     "text": [
      "Canonical unit for metric 'Carbon Emissions': metric tons CO2e\n",
      "Conversion factor from 'tonnes' to 'metric tons CO2e': 1.0\n",
      "Conversion factor from 'MteCO2e' to 'metric tons CO2e': 1.0\n",
      "Conversion factor from 'MtCO2e' to 'metric tons CO2e': 1.0\n",
      "Conversion factor from 'Million Metric Tons (MT) CO2e' to 'metric tons CO2e': 1000000.0\n",
      "Conversion factor from 'million tCO2e' to 'metric tons CO2e': 1000000.0\n",
      "Conversion factor from 'tCO2e' to 'metric tons CO2e': 1000.0\n",
      "Conversion factor from 'g CO₂/km' to 'metric tons CO2e': 1e-06\n",
      "Conversion factor from 'g/km' to 'metric tons CO2e': 1e-06\n",
      "Direction for metric 'Carbon Emissions': -1\n",
      "Canonical unit for metric 'Energy Consumption': kWh\n",
      "Conversion factor from 'billion kWh' to 'kWh': 1000000000.0\n",
      "Conversion factor from 'million MWh' to 'kWh': 1000000.0\n",
      "Direction for metric 'Energy Consumption': -1\n",
      "Canonical unit for metric 'Water Usage': million cubic meters\n",
      "Conversion factor from 'Liters per kilowatt-hour (L/kWh)' to 'million cubic meters': 1e-06\n",
      "Error getting conversion factor from 'l/pc' to 'million cubic meters': could not convert string to float: '3.08567758 × 10^-7'\n",
      "Conversion factor from 'l/kg' to 'million cubic meters': 1e-06\n",
      "Conversion factor from 'billion gallons' to 'million cubic meters': 3.78541\n",
      "Conversion factor from 'million gallons' to 'million cubic meters': 3.78541\n",
      "Conversion factor from 'million m3' to 'million cubic meters': 1.0\n",
      "Error getting conversion factor from 'million m³/year' to 'million cubic meters': could not convert string to float: '1 million m³/year = 1 million cubic meters'\n",
      "Direction for metric 'Water Usage': -1\n",
      "Canonical unit for metric 'Waste Generation': metric tons\n",
      "Error getting conversion factor from 'kt' to 'metric tons': could not convert string to float: '1 kt = 1 metric ton'\n",
      "Direction for metric 'Waste Generation': -1\n",
      "Canonical unit for metric 'Renewable Energy Usage': percent\n",
      "Conversion factor from '%' to 'percent': 1.0\n",
      "Conversion factor from 'million kWh' to 'percent': 0.0001\n",
      "Conversion factor from 'billion kWh' to 'percent': 1e-10\n",
      "Conversion factor from ' ' to 'percent': 100.0\n",
      "Conversion factor from 'percent  (%)' to 'percent': 1.0\n",
      "Direction for metric 'Renewable Energy Usage': 1\n",
      "Canonical unit for metric 'Greenhouse Gas Emissions Intensity': kg CO2e/USD\n",
      "Conversion factor from 'grams of CO2e per dollar (USD)' to 'kg CO2e/USD': 0.001\n",
      "Conversion factor from 'grams of CO2e per dollar' to 'kg CO2e/USD': 0.001\n",
      "Conversion factor from 'teCO2 equivalent/unit' to 'kg CO2e/USD': 0.001\n",
      "Conversion factor from 'teCO2e/unit' to 'kg CO2e/USD': 0.001\n",
      "Conversion factor from 'MT CO₂e/$M' to 'kg CO2e/USD': 1000000.0\n",
      "Conversion factor from 'MT CO2e/$M' to 'kg CO2e/USD': 1000000.0\n",
      "Conversion factor from 'kg CO2e/boe' to 'kg CO2e/USD': 0.05\n",
      "Conversion factor from 'tCO2e/FTE' to 'kg CO2e/USD': 0.005\n",
      "Conversion factor from 'tCO2e/BILLION US$' to 'kg CO2e/USD': 1000000000.0\n",
      "Direction for metric 'Greenhouse Gas Emissions Intensity': -1\n",
      "Unable to convert 'l/pc' to 'million cubic meters' for metric 'Water Usage'.\n",
      "Unable to convert 'million m³/year' to 'million cubic meters' for metric 'Water Usage'.\n",
      "Unable to convert 'kt' to 'metric tons' for metric 'Waste Generation'.\n",
      "Unable to convert 'kt' to 'metric tons' for metric 'Waste Generation'.\n"
     ]
    },
    {
     "name": "stderr",
     "output_type": "stream",
     "text": [
      "C:\\Users\\bokovacs\\AppData\\Local\\Temp\\ipykernel_1284\\2651773165.py:59: SettingWithCopyWarning: \n",
      "A value is trying to be set on a copy of a slice from a DataFrame.\n",
      "Try using .loc[row_indexer,col_indexer] = value instead\n",
      "\n",
      "See the caveats in the documentation: https://pandas.pydata.org/pandas-docs/stable/user_guide/indexing.html#returning-a-view-versus-a-copy\n",
      "  df['Canonical unit'] = df['metric'].map(canonical_units)\n",
      "C:\\Users\\bokovacs\\AppData\\Local\\Temp\\ipykernel_1284\\2651773165.py:60: SettingWithCopyWarning: \n",
      "A value is trying to be set on a copy of a slice from a DataFrame.\n",
      "Try using .loc[row_indexer,col_indexer] = value instead\n",
      "\n",
      "See the caveats in the documentation: https://pandas.pydata.org/pandas-docs/stable/user_guide/indexing.html#returning-a-view-versus-a-copy\n",
      "  df['Converted value'] = df.apply(convert_value, axis=1)\n",
      "C:\\Users\\bokovacs\\AppData\\Local\\Temp\\ipykernel_1284\\2651773165.py:61: SettingWithCopyWarning: \n",
      "A value is trying to be set on a copy of a slice from a DataFrame.\n",
      "Try using .loc[row_indexer,col_indexer] = value instead\n",
      "\n",
      "See the caveats in the documentation: https://pandas.pydata.org/pandas-docs/stable/user_guide/indexing.html#returning-a-view-versus-a-copy\n",
      "  df['Direction'] = df['metric'].map(metric_directions)\n"
     ]
    }
   ],
   "source": [
    "df_converted_thomas = convert_units(df_filtered)"
   ]
  },
  {
   "cell_type": "code",
   "execution_count": 41,
   "id": "7565a12de503b322",
   "metadata": {
    "ExecuteTime": {
     "end_time": "2024-10-19T15:35:57.784655Z",
     "start_time": "2024-10-19T15:35:57.776405Z"
    }
   },
   "outputs": [
    {
     "data": {
      "text/html": [
       "<div>\n",
       "<style scoped>\n",
       "    .dataframe tbody tr th:only-of-type {\n",
       "        vertical-align: middle;\n",
       "    }\n",
       "\n",
       "    .dataframe tbody tr th {\n",
       "        vertical-align: top;\n",
       "    }\n",
       "\n",
       "    .dataframe thead th {\n",
       "        text-align: right;\n",
       "    }\n",
       "</style>\n",
       "<table border=\"1\" class=\"dataframe\">\n",
       "  <thead>\n",
       "    <tr style=\"text-align: right;\">\n",
       "      <th></th>\n",
       "      <th>company</th>\n",
       "      <th>year</th>\n",
       "      <th>metric</th>\n",
       "      <th>value</th>\n",
       "      <th>unit</th>\n",
       "      <th>Canonical unit</th>\n",
       "      <th>Converted value</th>\n",
       "      <th>Direction</th>\n",
       "    </tr>\n",
       "  </thead>\n",
       "  <tbody>\n",
       "    <tr>\n",
       "      <th>0</th>\n",
       "      <td>Amazon</td>\n",
       "      <td>2022</td>\n",
       "      <td>Carbon Emissions</td>\n",
       "      <td>70.74</td>\n",
       "      <td>metric tons CO2e</td>\n",
       "      <td>metric tons CO2e</td>\n",
       "      <td>7.074000e+01</td>\n",
       "      <td>-1</td>\n",
       "    </tr>\n",
       "    <tr>\n",
       "      <th>2</th>\n",
       "      <td>H&amp;M</td>\n",
       "      <td>2017</td>\n",
       "      <td>Carbon Emissions</td>\n",
       "      <td>70165.00</td>\n",
       "      <td>tonnes</td>\n",
       "      <td>metric tons CO2e</td>\n",
       "      <td>7.016500e+04</td>\n",
       "      <td>-1</td>\n",
       "    </tr>\n",
       "    <tr>\n",
       "      <th>5</th>\n",
       "      <td>Apple</td>\n",
       "      <td>2012</td>\n",
       "      <td>Carbon Emissions</td>\n",
       "      <td>400000.00</td>\n",
       "      <td>metric tons CO2e</td>\n",
       "      <td>metric tons CO2e</td>\n",
       "      <td>4.000000e+05</td>\n",
       "      <td>-1</td>\n",
       "    </tr>\n",
       "    <tr>\n",
       "      <th>6</th>\n",
       "      <td>Apple</td>\n",
       "      <td>2011</td>\n",
       "      <td>Carbon Emissions</td>\n",
       "      <td>200000.00</td>\n",
       "      <td>metric tons CO2e</td>\n",
       "      <td>metric tons CO2e</td>\n",
       "      <td>2.000000e+05</td>\n",
       "      <td>-1</td>\n",
       "    </tr>\n",
       "    <tr>\n",
       "      <th>7</th>\n",
       "      <td>BP</td>\n",
       "      <td>2017</td>\n",
       "      <td>Carbon Emissions</td>\n",
       "      <td>48.80</td>\n",
       "      <td>MteCO2e</td>\n",
       "      <td>metric tons CO2e</td>\n",
       "      <td>4.880000e+01</td>\n",
       "      <td>-1</td>\n",
       "    </tr>\n",
       "    <tr>\n",
       "      <th>...</th>\n",
       "      <td>...</td>\n",
       "      <td>...</td>\n",
       "      <td>...</td>\n",
       "      <td>...</td>\n",
       "      <td>...</td>\n",
       "      <td>...</td>\n",
       "      <td>...</td>\n",
       "      <td>...</td>\n",
       "    </tr>\n",
       "    <tr>\n",
       "      <th>85</th>\n",
       "      <td>Saudi Aramco</td>\n",
       "      <td>2018</td>\n",
       "      <td>Greenhouse Gas Emissions Intensity</td>\n",
       "      <td>10.20</td>\n",
       "      <td>kg CO2e/boe</td>\n",
       "      <td>kg CO2e/USD</td>\n",
       "      <td>5.100000e-01</td>\n",
       "      <td>-1</td>\n",
       "    </tr>\n",
       "    <tr>\n",
       "      <th>86</th>\n",
       "      <td>Saudi Aramco</td>\n",
       "      <td>2021</td>\n",
       "      <td>Greenhouse Gas Emissions Intensity</td>\n",
       "      <td>10.70</td>\n",
       "      <td>kg CO2e/boe</td>\n",
       "      <td>kg CO2e/USD</td>\n",
       "      <td>5.350000e-01</td>\n",
       "      <td>-1</td>\n",
       "    </tr>\n",
       "    <tr>\n",
       "      <th>87</th>\n",
       "      <td>Google</td>\n",
       "      <td>2011</td>\n",
       "      <td>Greenhouse Gas Emissions Intensity</td>\n",
       "      <td>60.00</td>\n",
       "      <td>tCO2e/FTE</td>\n",
       "      <td>kg CO2e/USD</td>\n",
       "      <td>3.000000e-01</td>\n",
       "      <td>-1</td>\n",
       "    </tr>\n",
       "    <tr>\n",
       "      <th>88</th>\n",
       "      <td>Google</td>\n",
       "      <td>2013</td>\n",
       "      <td>Greenhouse Gas Emissions Intensity</td>\n",
       "      <td>5.50</td>\n",
       "      <td>tCO2e/BILLION US$</td>\n",
       "      <td>kg CO2e/USD</td>\n",
       "      <td>5.500000e+09</td>\n",
       "      <td>-1</td>\n",
       "    </tr>\n",
       "    <tr>\n",
       "      <th>89</th>\n",
       "      <td>Google</td>\n",
       "      <td>2014</td>\n",
       "      <td>Greenhouse Gas Emissions Intensity</td>\n",
       "      <td>4.00</td>\n",
       "      <td>tCO2e/FTE</td>\n",
       "      <td>kg CO2e/USD</td>\n",
       "      <td>2.000000e-02</td>\n",
       "      <td>-1</td>\n",
       "    </tr>\n",
       "  </tbody>\n",
       "</table>\n",
       "<p>73 rows × 8 columns</p>\n",
       "</div>"
      ],
      "text/plain": [
       "         company  year                              metric      value  \\\n",
       "0         Amazon  2022                    Carbon Emissions      70.74   \n",
       "2            H&M  2017                    Carbon Emissions   70165.00   \n",
       "5          Apple  2012                    Carbon Emissions  400000.00   \n",
       "6          Apple  2011                    Carbon Emissions  200000.00   \n",
       "7             BP  2017                    Carbon Emissions      48.80   \n",
       "..           ...   ...                                 ...        ...   \n",
       "85  Saudi Aramco  2018  Greenhouse Gas Emissions Intensity      10.20   \n",
       "86  Saudi Aramco  2021  Greenhouse Gas Emissions Intensity      10.70   \n",
       "87        Google  2011  Greenhouse Gas Emissions Intensity      60.00   \n",
       "88        Google  2013  Greenhouse Gas Emissions Intensity       5.50   \n",
       "89        Google  2014  Greenhouse Gas Emissions Intensity       4.00   \n",
       "\n",
       "                 unit    Canonical unit  Converted value  Direction  \n",
       "0    metric tons CO2e  metric tons CO2e     7.074000e+01         -1  \n",
       "2              tonnes  metric tons CO2e     7.016500e+04         -1  \n",
       "5    metric tons CO2e  metric tons CO2e     4.000000e+05         -1  \n",
       "6    metric tons CO2e  metric tons CO2e     2.000000e+05         -1  \n",
       "7             MteCO2e  metric tons CO2e     4.880000e+01         -1  \n",
       "..                ...               ...              ...        ...  \n",
       "85        kg CO2e/boe       kg CO2e/USD     5.100000e-01         -1  \n",
       "86        kg CO2e/boe       kg CO2e/USD     5.350000e-01         -1  \n",
       "87          tCO2e/FTE       kg CO2e/USD     3.000000e-01         -1  \n",
       "88  tCO2e/BILLION US$       kg CO2e/USD     5.500000e+09         -1  \n",
       "89          tCO2e/FTE       kg CO2e/USD     2.000000e-02         -1  \n",
       "\n",
       "[73 rows x 8 columns]"
      ]
     },
     "execution_count": 41,
     "metadata": {},
     "output_type": "execute_result"
    }
   ],
   "source": [
    "df_converted_thomas"
   ]
  },
  {
   "cell_type": "code",
   "execution_count": 44,
   "id": "794440fd588ce91f",
   "metadata": {
    "ExecuteTime": {
     "end_time": "2024-10-19T15:51:46.323410Z",
     "start_time": "2024-10-19T15:51:46.320212Z"
    }
   },
   "outputs": [],
   "source": [
    "import pandas as pd\n",
    "\n",
    "def process_data(wanted_metric, df):\n",
    "    # Step 1: Filter rows where 'metric' equals 'wanted_metric'\n",
    "    df_filtered = df[df['metric'] == wanted_metric]\n",
    "\n",
    "    # Step 2: Drop the specified columns\n",
    "    df_dropped = df_filtered.drop(columns=['year', 'unit', 'value'])\n",
    "\n",
    "    # Step 3: Group by 'company' and aggregate\n",
    "    df_grouped = df_dropped.groupby('company', as_index=False).agg({\n",
    "        'Converted value': 'mean',\n",
    "        'metric': 'first',\n",
    "        'Canonical unit': 'first',\n",
    "        'Direction': 'first'\n",
    "    })\n",
    "\n",
    "    return df_grouped\n"
   ]
  },
  {
   "cell_type": "code",
   "execution_count": 57,
   "id": "c4698447",
   "metadata": {},
   "outputs": [
    {
     "data": {
      "text/plain": [
       "array(['Carbon Emissions', 'Energy Consumption', 'Water Usage',\n",
       "       'Waste Generation', 'Renewable Energy Usage',\n",
       "       'Greenhouse Gas Emissions Intensity'], dtype=object)"
      ]
     },
     "execution_count": 57,
     "metadata": {},
     "output_type": "execute_result"
    }
   ],
   "source": [
    "df_converted_thomas.metric.unique()"
   ]
  },
  {
   "cell_type": "code",
   "execution_count": 58,
   "id": "d8a14bcab51079f7",
   "metadata": {
    "ExecuteTime": {
     "end_time": "2024-10-19T15:51:47.409808Z",
     "start_time": "2024-10-19T15:51:47.405256Z"
    }
   },
   "outputs": [],
   "source": [
    "averaged_carbon_emissions_df = process_data(\"Carbon Emissions\", df_converted_thomas)"
   ]
  },
  {
   "cell_type": "code",
   "execution_count": 59,
   "id": "b9729865648b6e0b",
   "metadata": {
    "ExecuteTime": {
     "end_time": "2024-10-19T15:51:50.497487Z",
     "start_time": "2024-10-19T15:51:50.492784Z"
    }
   },
   "outputs": [
    {
     "data": {
      "text/html": [
       "<div>\n",
       "<style scoped>\n",
       "    .dataframe tbody tr th:only-of-type {\n",
       "        vertical-align: middle;\n",
       "    }\n",
       "\n",
       "    .dataframe tbody tr th {\n",
       "        vertical-align: top;\n",
       "    }\n",
       "\n",
       "    .dataframe thead th {\n",
       "        text-align: right;\n",
       "    }\n",
       "</style>\n",
       "<table border=\"1\" class=\"dataframe\">\n",
       "  <thead>\n",
       "    <tr style=\"text-align: right;\">\n",
       "      <th></th>\n",
       "      <th>company</th>\n",
       "      <th>Converted value</th>\n",
       "      <th>metric</th>\n",
       "      <th>Canonical unit</th>\n",
       "      <th>Direction</th>\n",
       "    </tr>\n",
       "  </thead>\n",
       "  <tbody>\n",
       "    <tr>\n",
       "      <th>0</th>\n",
       "      <td>Amazon</td>\n",
       "      <td>7.074000e+01</td>\n",
       "      <td>Carbon Emissions</td>\n",
       "      <td>metric tons CO2e</td>\n",
       "      <td>-1</td>\n",
       "    </tr>\n",
       "    <tr>\n",
       "      <th>1</th>\n",
       "      <td>Apple</td>\n",
       "      <td>3.000000e+05</td>\n",
       "      <td>Carbon Emissions</td>\n",
       "      <td>metric tons CO2e</td>\n",
       "      <td>-1</td>\n",
       "    </tr>\n",
       "    <tr>\n",
       "      <th>2</th>\n",
       "      <td>BP</td>\n",
       "      <td>3.960000e+01</td>\n",
       "      <td>Carbon Emissions</td>\n",
       "      <td>metric tons CO2e</td>\n",
       "      <td>-1</td>\n",
       "    </tr>\n",
       "    <tr>\n",
       "      <th>3</th>\n",
       "      <td>Google</td>\n",
       "      <td>2.203050e+09</td>\n",
       "      <td>Carbon Emissions</td>\n",
       "      <td>metric tons CO2e</td>\n",
       "      <td>-1</td>\n",
       "    </tr>\n",
       "    <tr>\n",
       "      <th>4</th>\n",
       "      <td>H&amp;M</td>\n",
       "      <td>7.016500e+04</td>\n",
       "      <td>Carbon Emissions</td>\n",
       "      <td>metric tons CO2e</td>\n",
       "      <td>-1</td>\n",
       "    </tr>\n",
       "    <tr>\n",
       "      <th>5</th>\n",
       "      <td>Volkswagen</td>\n",
       "      <td>1.313333e-04</td>\n",
       "      <td>Carbon Emissions</td>\n",
       "      <td>metric tons CO2e</td>\n",
       "      <td>-1</td>\n",
       "    </tr>\n",
       "    <tr>\n",
       "      <th>6</th>\n",
       "      <td>Walmart</td>\n",
       "      <td>2.169000e+07</td>\n",
       "      <td>Carbon Emissions</td>\n",
       "      <td>metric tons CO2e</td>\n",
       "      <td>-1</td>\n",
       "    </tr>\n",
       "  </tbody>\n",
       "</table>\n",
       "</div>"
      ],
      "text/plain": [
       "      company  Converted value            metric    Canonical unit  Direction\n",
       "0      Amazon     7.074000e+01  Carbon Emissions  metric tons CO2e         -1\n",
       "1       Apple     3.000000e+05  Carbon Emissions  metric tons CO2e         -1\n",
       "2          BP     3.960000e+01  Carbon Emissions  metric tons CO2e         -1\n",
       "3      Google     2.203050e+09  Carbon Emissions  metric tons CO2e         -1\n",
       "4         H&M     7.016500e+04  Carbon Emissions  metric tons CO2e         -1\n",
       "5  Volkswagen     1.313333e-04  Carbon Emissions  metric tons CO2e         -1\n",
       "6     Walmart     2.169000e+07  Carbon Emissions  metric tons CO2e         -1"
      ]
     },
     "execution_count": 59,
     "metadata": {},
     "output_type": "execute_result"
    }
   ],
   "source": [
    "averaged_carbon_emissions_df"
   ]
  },
  {
   "cell_type": "code",
   "execution_count": 61,
   "id": "aabd184abc428336",
   "metadata": {
    "ExecuteTime": {
     "end_time": "2024-10-19T15:58:46.462403Z",
     "start_time": "2024-10-19T15:58:45.736649Z"
    }
   },
   "outputs": [],
   "source": [
    "import pandas as pd\n",
    "import matplotlib.pyplot as plt\n",
    "\n",
    "def plot_companies(df, N):\n",
    "    \"\"\"\n",
    "    Plots the top N companies based on the 'Converted value' column,\n",
    "    considering the 'Direction' for sorting.\n",
    "\n",
    "    Parameters:\n",
    "    - df: DataFrame with required columns.\n",
    "    - N: Number of companies to plot.\n",
    "    \"\"\"\n",
    "    # Ensure the required columns are present\n",
    "    required_columns = ['company', 'Converted value', 'metric', 'Canonical unit', 'Direction']\n",
    "    if not all(column in df.columns for column in required_columns):\n",
    "        raise valueError(f\"The DataFrame must contain the following columns: {required_columns}\")\n",
    "\n",
    "    # Step 1: Get the Direction from the first row\n",
    "    direction = df['Direction'].iloc[0]\n",
    "    if direction not in [-1, 1]:\n",
    "        raise valueError(\"Direction must be either -1 (low values are better) or 1 (high values are better)\")\n",
    "\n",
    "    # Step 2: Sort the DataFrame based on 'Converted value' and 'Direction'\n",
    "    ascending_order = True if direction == -1 else False\n",
    "    df_sorted = df.sort_values(by='Converted value', ascending=ascending_order)\n",
    "\n",
    "    # Step 3: Select the top N companies\n",
    "    df_topN = df_sorted.head(N)\n",
    "\n",
    "    # Step 4: Create the plot\n",
    "    plt.figure(figsize=(10, 6))\n",
    "    bars = plt.bar(df_topN['company'], df_topN['Converted value'], color='skyblue')\n",
    "\n",
    "    # Add value labels on top of each bar\n",
    "    for bar in bars:\n",
    "        yval = bar.get_height()\n",
    "        plt.text(bar.get_x() + bar.get_width()/2, yval + max(df_topN['Converted value'])*0.01, \n",
    "                 f'{yval:.2f}', ha='center', va='bottom')\n",
    "\n",
    "    # Labeling the axes and setting the title\n",
    "    plt.xlabel('company')\n",
    "    plt.ylabel(f'Converted value ({df[\"Canonical unit\"].iloc[0]})')\n",
    "    plt.title(f'Top {N} Companies for metric \"{df[\"metric\"].iloc[0]}\"')\n",
    "\n",
    "    # Rotate x-axis labels if necessary\n",
    "    plt.xticks(rotation=45)\n",
    "    plt.tight_layout()\n",
    "    plt.show()\n"
   ]
  },
  {
   "cell_type": "code",
   "execution_count": 62,
   "id": "1dec2f110b120e77",
   "metadata": {
    "ExecuteTime": {
     "end_time": "2024-10-19T16:01:06.113671Z",
     "start_time": "2024-10-19T16:01:06.038269Z"
    }
   },
   "outputs": [
    {
     "data": {
      "image/png": "[encoded data removed]",
      "text/plain": [
       "<Figure size 1000x600 with 1 Axes>"
      ]
     },
     "metadata": {},
     "output_type": "display_data"
    }
   ],
   "source": [
    "plot_companies(averaged_carbon_emissions_df, 6)"
   ]
  },
  {
   "cell_type": "code",
   "execution_count": 63,
   "id": "998b399e45b61ef1",
   "metadata": {
    "ExecuteTime": {
     "end_time": "2024-10-19T16:03:40.759961Z",
     "start_time": "2024-10-19T16:03:40.757683Z"
    }
   },
   "outputs": [],
   "source": [
    "def plot_top_n_metrics(df, desired_metric, N):\n",
    "    average_df = process_data(desired_metric, df)\n",
    "    plot_companies(average_df, N)"
   ]
  },
  {
   "cell_type": "code",
   "execution_count": 65,
   "id": "e43cee12bda5a126",
   "metadata": {
    "ExecuteTime": {
     "end_time": "2024-10-19T16:04:26.563388Z",
     "start_time": "2024-10-19T16:04:26.489393Z"
    }
   },
   "outputs": [
    {
     "data": {
      "image/png": "[encoded data removed]",
      "text/plain": [
       "<Figure size 1000x600 with 1 Axes>"
      ]
     },
     "metadata": {},
     "output_type": "display_data"
    }
   ],
   "source": [
    "plot_top_n_metrics(df_converted_thomas, \"Energy Consumption\", 3)"
   ]
  },
  {
   "cell_type": "markdown",
   "id": "96ac0f9fc6f5bbd6",
   "metadata": {},
   "source": [
    "convert_units(df) # must be 'company', 'year', 'metric', 'value', 'unit'\n",
    "plot_top_n_metrics(df, str of metric, Number of plotted)"
   ]
  },
  {
   "cell_type": "code",
   "execution_count": null,
   "id": "7c5c7476d47a7140",
   "metadata": {},
   "outputs": [],
   "source": []
  }
 ],
 "metadata": {
  "kernelspec": {
   "display_name": "Python 3",
   "language": "python",
   "name": "python3"
  },
  "language_info": {
   "codemirror_mode": {
    "name": "ipython",
    "version": 3
   },
   "file_extension": ".py",
   "mimetype": "text/x-python",
   "name": "python",
   "nbconvert_exporter": "python",
   "pygments_lexer": "ipython3",
   "version": "3.10.7"
  }
 },
 "nbformat": 4,
 "nbformat_minor": 5
}
